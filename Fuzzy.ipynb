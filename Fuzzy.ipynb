{
  "nbformat": 4,
  "nbformat_minor": 0,
  "metadata": {
    "colab": {
      "name": "Fuzzy.ipynb",
      "provenance": [],
      "collapsed_sections": [],
      "toc_visible": true
    },
    "kernelspec": {
      "name": "python3",
      "display_name": "Python 3"
    }
  },
  "cells": [
    {
      "cell_type": "code",
      "metadata": {
        "id": "bQ-3OhO7-VBk",
        "colab_type": "code",
        "colab": {}
      },
      "source": [
        "import numpy as np\n",
        "import math\n",
        "import matplotlib.pyplot as plt\n",
        "import csv"
      ],
      "execution_count": 0,
      "outputs": []
    },
    {
      "cell_type": "code",
      "metadata": {
        "id": "lwZeAPFQO0on",
        "colab_type": "code",
        "colab": {}
      },
      "source": [
        "Id = []\n",
        "Datafollowers = []\n",
        "Datarate = []\n",
        "FuzzySetFollowers = []\n",
        "FuzzySetRate = []"
      ],
      "execution_count": 0,
      "outputs": []
    },
    {
      "cell_type": "code",
      "metadata": {
        "id": "kSCzf-lC-bac",
        "colab_type": "code",
        "colab": {}
      },
      "source": [
        "f = open('influencers.csv', 'r')\n",
        "data = csv.reader(f)\n",
        "for row in data:\n",
        "  x = row[0]\n",
        "  Id.append(x)\n",
        "  Datafollowers.append(row[1])\n",
        "  Datarate.append(row[2])\n",
        "Id.pop(0) \n",
        "Datafollowers.pop(0) \n",
        "Datarate.pop(0)\n",
        "f.close()"
      ],
      "execution_count": 0,
      "outputs": []
    },
    {
      "cell_type": "code",
      "metadata": {
        "colab_type": "code",
        "outputId": "ac88176f-125a-4d3a-985a-e1b082ad3d8f",
        "id": "mXCd2-2afwSK",
        "colab": {
          "base_uri": "https://localhost:8080/",
          "height": 265
        }
      },
      "source": [
        "a = 1000.0\n",
        "b = 2000.0\n",
        "c = 3000.0\n",
        "\n",
        "b2 = 4000.0\n",
        "c2 = 200.0\n",
        "\n",
        "a3 = 4500.0\n",
        "b3 = 6500.0\n",
        "c3 = 8500.0\n",
        "\n",
        "def sigmoidSedikit(x):\n",
        "    if (x <= a):\n",
        "        return 1\n",
        "    elif ((a < x) and (x <= b)):\n",
        "        return 1-2*(((x-a)/(c-a))**2)    \n",
        "    elif ((b < x) and (x < c)):\n",
        "        return (2*((c-x)/(c-a))**2)\n",
        "    elif (x >= c):\n",
        "        return 0\n",
        "\n",
        "def sigmoidSedang(x):\n",
        "    return 1/(1+abs((x-b2)/c2)**2)                \n",
        "\n",
        "def sigmoidBanyak(x):\n",
        "    if (x <= a3):\n",
        "        return 0\n",
        "    elif ((a3 < x) and (x <= b3)):\n",
        "        return 2*(((x-a3)/(c3-a3))**2)\n",
        "    elif ((b3 < x) and (x < c3)):\n",
        "        return 1-(2*((c3-x)/(c3-a3))**2)\n",
        "    else:\n",
        "        return 1\n",
        "\n",
        "x = np.arange(0, 10000.0, 1)    \n",
        "\n",
        "y1 = []\n",
        "y2 = []\n",
        "y3 = []\n",
        "for i in np.nditer(x):\n",
        "    y1.append(sigmoidSedikit(i))\n",
        "    y2.append(sigmoidSedang(i))\n",
        "    y3.append(sigmoidBanyak(i))\n",
        "\n",
        "plt.plot(x, y1, label='Followers Banyak')    \n",
        "plt.plot(x, y2, label='Followers Sedang')\n",
        "plt.plot(x, y3, label='Followers Sedikit')\n",
        "plt.legend(loc='upper left')\n",
        "\n",
        "for i in Datafollowers:\n",
        "    temp1 = [\"Sedikit\", (sigmoidSedikit(float(i)))]\n",
        "    temp2 = [\"Sedang\", (sigmoidSedang(float(i)))]\n",
        "    temp3 = [\"Banyak\", (sigmoidBanyak(float(i)))]\n",
        "    FuzzySetFollowers.append([temp1, temp2, temp3])"
      ],
      "execution_count": 144,
      "outputs": [
        {
          "output_type": "display_data",
          "data": {
            "image/png": "[encoded data removed]",
            "text/plain": [
              "<Figure size 432x288 with 1 Axes>"
            ]
          },
          "metadata": {
            "tags": []
          }
        }
      ]
    },
    {
      "cell_type": "code",
      "metadata": {
        "id": "Sp-mKcf4uaAZ",
        "colab_type": "code",
        "colab": {}
      },
      "source": [
        ""
      ],
      "execution_count": 0,
      "outputs": []
    },
    {
      "cell_type": "code",
      "metadata": {
        "id": "rxmiXzf6i7e0",
        "colab_type": "code",
        "outputId": "294bbb79-6f10-4488-e491-59a1ba8f08d5",
        "colab": {
          "base_uri": "https://localhost:8080/",
          "height": 265
        }
      },
      "source": [
        "a = 1.2\n",
        "b = 2.4\n",
        "c = 3.6\n",
        "\n",
        "b2 = 4.0\n",
        "c2 = 0.4\n",
        "\n",
        "a3 = 3.2\n",
        "b3 = 5.4\n",
        "c3 = 8.0\n",
        "\n",
        "def sigmoidRendah(x):\n",
        "    if (x <= a):\n",
        "        return 1\n",
        "    elif ((a < x) and (x <= b)):\n",
        "        return 1-2*(((x-a)/(c-a))**2)\n",
        "    elif ((b < x) and (x < c)):\n",
        "        return (2*((c-x)/(c-a))**2)\n",
        "    elif (x >= c):\n",
        "        return 0\n",
        "    \n",
        "def sigmoidSedang(x):\n",
        "    return 1/(1+abs((x-b2)/c2)**2)\n",
        "\n",
        "def sigmoidTinggi(x):\n",
        "    if (x <= a3):\n",
        "        return 0\n",
        "    elif ((a3 < x) and (x <= b3)):\n",
        "        return 2*(((x-a3)/(c3-a3))**2)\n",
        "    elif ((b3 < x) and (x < c3)):\n",
        "        return 1-(2*((c3-x)/(c3-a3))**2)\n",
        "    else:\n",
        "        return 1          \n",
        "\n",
        "x = np.arange(0, 8.0, 0.01)\n",
        "\n",
        "y1 = []\n",
        "y2 = []\n",
        "y3 = []\n",
        "for i in np.nditer(x):\n",
        "    y1.append(sigmoidRendah(i))\n",
        "    y2.append(sigmoidSedang(i))\n",
        "    y3.append(sigmoidTinggi(i))\n",
        "\n",
        "plt.plot(x, y1, label='Engagement Rendah')    \n",
        "plt.plot(x, y2, label='Engagement Sedang')\n",
        "plt.plot(x, y3, label='Engagement Tinggi')\n",
        "plt.legend(loc='upper right')\n",
        "\n",
        "for i in Datarate:\n",
        "    temp1 = [\"Rendah\", (sigmoidRendah(float(i)))]\n",
        "    temp2 = [\"Sedang\", (sigmoidSedang(float(i)))]\n",
        "    temp3 = [\"Tinggi\", (sigmoidTinggi(float(i)))]\n",
        "    FuzzySetRate.append([temp1, temp2, temp3])"
      ],
      "execution_count": 145,
      "outputs": [
        {
          "output_type": "display_data",
          "data": {
            "image/png": "[encoded data removed]",
            "text/plain": [
              "<Figure size 432x288 with 1 Axes>"
            ]
          },
          "metadata": {
            "tags": []
          }
        }
      ]
    },
    {
      "cell_type": "code",
      "metadata": {
        "id": "bR6scFASmh-4",
        "colab_type": "code",
        "colab": {}
      },
      "source": [
        "Fuzzification = []\n",
        "Dfuzzi = []\n",
        "Cfuzzi = []\n",
        "\n",
        "def FuzzyRule (a):\n",
        "    if ((a[0][0] == \"Rendah\") and (a[1][0] == \"Sedikit\") and (a[0][1] < a[1][1])):\n",
        "        return [\"No\", a[0][1]]\n",
        "    if ((a[0][0] == \"Rendah\") and (a[1][0] == \"Sedang\") and (a[0][1] < a[1][1])):\n",
        "        return [\"No\", a[0][1]]   \n",
        "    if ((a[0][0] == \"Rendah\") and (a[1][0] == \"Banyak\") and (a[0][1] < a[1][1])):\n",
        "        return [\"Considered\", a[0][1]] \n",
        "    if ((a[0][0] == \"Sedang\") and (a[1][0] == \"Sedikit\") and (a[0][1] < a[1][1])):\n",
        "        return [\"Considered\", a[0][1]]   \n",
        "    if ((a[0][0] == \"Sedang\") and (a[1][0] == \"Sedang\") and (a[0][1] < a[1][1])):\n",
        "        return [\"Considered\", a[0][1]]      \n",
        "    if ((a[0][0] == \"Sedang\") and (a[1][0] == \"Banyak\") and (a[0][1] < a[1][1])):\n",
        "        return [\"Ya\", a[0][1]]     \n",
        "    if ((a[0][0] == \"Tinggi\") and (a[1][0] == \"Sedikit\") and (a[0][1] < a[1][1])):\n",
        "        return [\"Considered\", a[0][1]]      \n",
        "    if ((a[0][0] == \"Tinggi\") and (a[1][0] == \"Sedang\") and (a[0][1] < a[1][1])):\n",
        "        return [\"Ya\", a[0][1]]    \n",
        "    if ((a[0][0] == \"Tinggi\") and (a[1][0] == \"Banyak\") and (a[0][1] < a[1][1])):\n",
        "        return [\"Ya\", a[0][1]]    \n",
        "\n",
        "    if ((a[0][0] == \"Rendah\") and (a[1][0] == \"Sedikit\") and (a[0][1] >= a[1][1])):\n",
        "        return [\"No\", a[1][1]] \n",
        "    if ((a[0][0] == \"Rendah\") and (a[1][0] == \"Sedang\") and (a[0][1] >= a[1][1])):\n",
        "        return [\"No\", a[1][1]]      \n",
        "    if ((a[0][0] == \"Rendah\") and (a[1][0] == \"Banyak\") and (a[0][1] >= a[1][1])):\n",
        "        return [\"Considered\", a[1][1]]\n",
        "    if ((a[0][0] == \"Sedang\") and (a[1][0] == \"Sedikit\") and (a[0][1] >= a[1][1])):\n",
        "        return [\"Considered\", a[1][1]] \n",
        "    if ((a[0][0] == \"Sedang\") and (a[1][0] == \"Sedang\") and (a[0][1] >= a[1][1])):\n",
        "        return [\"Considered\", a[1][1]]    \n",
        "    if ((a[0][0] == \"Sedang\") and (a[1][0] == \"Banyak\") and (a[0][1] >= a[1][1])):\n",
        "        return [\"Ya\", a[1][1]]     \n",
        "    if ((a[0][0] == \"Tinggi\") and (a[1][0] == \"Sedikit\") and (a[0][1] >= a[1][1])):\n",
        "        return [\"Considered\", a[1][1]]      \n",
        "    if ((a[0][0] == \"Tinggi\") and (a[1][0] == \"Sedang\") and (a[0][1] >= a[1][1])):\n",
        "        return [\"Ya\", a[1][1]]    \n",
        "    if ((a[0][0] == \"Tinggi\") and (a[1][0] == \"Banyak\") and (a[0][1] >= a[1][1])):\n",
        "        return [\"Ya\", a[1][1]]       \n",
        "\n",
        "def disjuct (a,b) :\n",
        "    temp = [\"No\", 0]\n",
        "    temp2 = [\"Considered\", 0]\n",
        "    temp3 = [\"Ya\", 0]\n",
        "    for i in range(len(a)):\n",
        "        if ((a[i][0]) == \"No\"):\n",
        "            if ((a[i][1]) > temp[1]):\n",
        "                temp = [\"No\", a[i][1]]\n",
        "        elif ((a[i][0]) == \"Considered\"):\n",
        "            if ((a[i][1]) > temp2[1]):\n",
        "                temp2 = [\"Considered\", a[i][1]]\n",
        "        elif ((a[i][0]) == \"Ya\"):\n",
        "            if ((a[i][1]) > temp3[1]):\n",
        "                temp3 = [\"Ya\", a[i][1]]        \n",
        "    return [b+1,temp,temp2,temp3]                    \n",
        "\n",
        "     "
      ],
      "execution_count": 0,
      "outputs": []
    },
    {
      "cell_type": "code",
      "metadata": {
        "id": "zzCJDyMFvo0M",
        "colab_type": "code",
        "colab": {
          "base_uri": "https://localhost:8080/",
          "height": 34
        },
        "outputId": "89138929-99ad-4728-b884-9f42a7e62e27"
      },
      "source": [
        "a"
      ],
      "execution_count": 31,
      "outputs": [
        {
          "output_type": "execute_result",
          "data": {
            "text/plain": [
              "0.4"
            ]
          },
          "metadata": {
            "tags": []
          },
          "execution_count": 31
        }
      ]
    },
    {
      "cell_type": "code",
      "metadata": {
        "id": "uHugbnx1yl-x",
        "colab_type": "code",
        "colab": {}
      },
      "source": [
        "temp = []\n",
        "for i in range(len(Id)):\n",
        "    for j in range(len(FuzzySetFollowers[i])):\n",
        "        for k in range(len(FuzzySetRate[j])):\n",
        "            temp = [FuzzySetRate[i][j],FuzzySetFollowers[j][k]]\n",
        "            Fuzzification.append(temp)\n",
        "\n",
        "count = 0\n",
        "temp = []\n",
        "for i in range(len(Fuzzification)):\n",
        "    if (count < 8):\n",
        "        count += 1\n",
        "        temp.append(FuzzyRule(Fuzzification[i]))\n",
        "    else:\n",
        "        Cfuzzi.append(temp)\n",
        "        count = 0\n",
        "        temp = []\n",
        "\n",
        "for i in range(len(Cfuzzi)):\n",
        "    Dfuzzi.append(disjuct(Cfuzzi[i],i))"
      ],
      "execution_count": 0,
      "outputs": []
    },
    {
      "cell_type": "code",
      "metadata": {
        "id": "Qe6bzfvRxqN6",
        "colab_type": "code",
        "colab": {}
      },
      "source": [
        "Nano = 30\n",
        "Mikro = 50\n",
        "Medium = 100\n",
        "\n",
        "def Sugeno(a,b,c):\n",
        "    return (a*Nano + b*Mikro + c*Medium)/(a+b+c)"
      ],
      "execution_count": 0,
      "outputs": []
    },
    {
      "cell_type": "code",
      "metadata": {
        "id": "6JzTCrNWxreD",
        "colab_type": "code",
        "colab": {}
      },
      "source": [
        "DeFuzzification = []\n",
        "for i in range(len(Dfuzzi)):\n",
        "    a = Dfuzzi[i][1][1]\n",
        "    b = Dfuzzi[i][2][1]\n",
        "    c = Dfuzzi[i][3][1]\n",
        "    DeFuzzification.append([i+1,Sugeno(a,b,c)])\n",
        "    \n",
        "DeFuzzification = sorted(DeFuzzification, key=lambda kk: kk[1], reverse = True)\n",
        "\n",
        "with open('Datainfluecers.csv', 'w', newline='') as csvfile:\n",
        "    spamwriter = csv.writer(csvfile, delimiter=',',\n",
        "                            quotechar='|', quoting=csv.QUOTE_MINIMAL)\n",
        "    spamwriter.writerow([\"Id\",\"Nilai\"])\n",
        "    for i in range(20):\n",
        "        spamwriter.writerow(DeFuzzification[i])"
      ],
      "execution_count": 0,
      "outputs": []
    },
    {
      "cell_type": "code",
      "metadata": {
        "id": "tCyy_xJy6CWE",
        "colab_type": "code",
        "colab": {
          "base_uri": "https://localhost:8080/",
          "height": 34
        },
        "outputId": "700365c2-139f-434f-b00b-25421b6773b8"
      },
      "source": [
        "print(len(DeFuzzification))"
      ],
      "execution_count": 35,
      "outputs": [
        {
          "output_type": "stream",
          "text": [
            "100\n"
          ],
          "name": "stdout"
        }
      ]
    },
    {
      "cell_type": "code",
      "metadata": {
        "id": "nDqRAQKY3wV1",
        "colab_type": "code",
        "colab": {
          "base_uri": "https://localhost:8080/",
          "height": 1000
        },
        "outputId": "6b34534e-2ebb-4b98-bf4c-41e3d8555082"
      },
      "source": [
        "Dfuzzi"
      ],
      "execution_count": 114,
      "outputs": [
        {
          "output_type": "execute_result",
          "data": {
            "text/plain": [
              "[[1, ['Nano', 0], ['Mikro', 0], ['Medium', 0]],\n",
              " [2,\n",
              "  ['Nano', 0],\n",
              "  ['Mikro', 5.540387145916541e-12],\n",
              "  ['Medium', 0.5599999999999999]],\n",
              " [3, ['Nano', 0], ['Mikro', 0], ['Medium', 0]],\n",
              " [4,\n",
              "  ['Nano', 2.1031075200728582e-10],\n",
              "  ['Mikro', 0.16666666666666663],\n",
              "  ['Medium', 0]],\n",
              " [5,\n",
              "  ['Nano', 2.1031075200728582e-10],\n",
              "  ['Mikro', 0.0833333333333334],\n",
              "  ['Medium', 0.1]],\n",
              " [6,\n",
              "  ['Nano', 2.1031075200728582e-10],\n",
              "  ['Mikro', 0.25000000000000017],\n",
              "  ['Medium', 0.05999999999999996]],\n",
              " [7,\n",
              "  ['Nano', 2.1031075200728582e-10],\n",
              "  ['Mikro', 0.08333333333333341],\n",
              "  ['Medium', 0]],\n",
              " [8,\n",
              "  ['Nano', 2.1031075200728582e-10],\n",
              "  ['Mikro', 0.1666666666666668],\n",
              "  ['Medium', 0.07999999999999999]],\n",
              " [9, ['Nano', 0], ['Mikro', 0], ['Medium', 0]],\n",
              " [10,\n",
              "  ['Nano', 2.1031075200728582e-10],\n",
              "  ['Mikro', 0.6666666666666667],\n",
              "  ['Medium', 0]],\n",
              " [11, ['Nano', 0], ['Mikro', 5.540387145916541e-12], ['Medium', 0.72]],\n",
              " [12,\n",
              "  ['Nano', 2.1031075200728582e-10],\n",
              "  ['Mikro', 0.9166666666666666],\n",
              "  ['Medium', 0]],\n",
              " [13, ['Nano', 0], ['Mikro', 5.540387145916541e-12], ['Medium', 0.74]],\n",
              " [14,\n",
              "  ['Nano', 2.1031075200728582e-10],\n",
              "  ['Mikro', 0.5000000000000001],\n",
              "  ['Medium', 0]],\n",
              " [15, ['Nano', 2.1031075200728582e-10], ['Mikro', 1], ['Medium', 0]],\n",
              " [16, ['Nano', 0], ['Mikro', 0], ['Medium', 0]],\n",
              " [17, ['Nano', 0], ['Mikro', 0], ['Medium', 0]],\n",
              " [18, ['Nano', 0], ['Mikro', 0], ['Medium', 0]],\n",
              " [19,\n",
              "  ['Nano', 0],\n",
              "  ['Mikro', 5.540387145916541e-12],\n",
              "  ['Medium', 0.38000000000000006]],\n",
              " [20,\n",
              "  ['Nano', 2.1031075200728582e-10],\n",
              "  ['Mikro', 0.9166666666666666],\n",
              "  ['Medium', 0]],\n",
              " [21, ['Nano', 0], ['Mikro', 0], ['Medium', 0]],\n",
              " [22, ['Nano', 0], ['Mikro', 0], ['Medium', 0]],\n",
              " [23,\n",
              "  ['Nano', 2.1031075200728582e-10],\n",
              "  ['Mikro', 0.7500000000000001],\n",
              "  ['Medium', 0]],\n",
              " [24, ['Nano', 0], ['Mikro', 0], ['Medium', 0]],\n",
              " [25,\n",
              "  ['Nano', 2.1031075200728582e-10],\n",
              "  ['Mikro', 0.7499999999999998],\n",
              "  ['Medium', 0]],\n",
              " [26, ['Nano', 0], ['Mikro', 0], ['Medium', 0]],\n",
              " [27,\n",
              "  ['Nano', 2.1031075200728582e-10],\n",
              "  ['Mikro', 0.41666666666666663],\n",
              "  ['Medium', 0.020000000000000018]],\n",
              " [28,\n",
              "  ['Nano', 0],\n",
              "  ['Mikro', 5.540387145916541e-12],\n",
              "  ['Medium', 0.14000000000000004]],\n",
              " [29, ['Nano', 0], ['Mikro', 0], ['Medium', 0]],\n",
              " [30,\n",
              "  ['Nano', 2.1031075200728582e-10],\n",
              "  ['Mikro', 0.6666666666666667],\n",
              "  ['Medium', 0]],\n",
              " [31, ['Nano', 0], ['Mikro', 0], ['Medium', 0]],\n",
              " [32,\n",
              "  ['Nano', 2.1031075200728582e-10],\n",
              "  ['Mikro', 0.9166666666666666],\n",
              "  ['Medium', 0]],\n",
              " [33, ['Nano', 0], ['Mikro', 0], ['Medium', 0]],\n",
              " [34, ['Nano', 0], ['Mikro', 5.540387145916541e-12], ['Medium', 0.18]],\n",
              " [35, ['Nano', 2.1031075200728582e-10], ['Mikro', 0.5], ['Medium', 0]],\n",
              " [36,\n",
              "  ['Nano', 2.1031075200728582e-10],\n",
              "  ['Mikro', 0.25000000000000017],\n",
              "  ['Medium', 0.05999999999999996]],\n",
              " [37, ['Nano', 0], ['Mikro', 0], ['Medium', 0]],\n",
              " [38, ['Nano', 0], ['Mikro', 0], ['Medium', 0]],\n",
              " [39, ['Nano', 0], ['Mikro', 5.540387145916541e-12], ['Medium', 1]],\n",
              " [40, ['Nano', 0], ['Mikro', 0], ['Medium', 0]],\n",
              " [41,\n",
              "  ['Nano', 0],\n",
              "  ['Mikro', 5.540387145916541e-12],\n",
              "  ['Medium', 0.12000000000000002]],\n",
              " [42, ['Nano', 0], ['Mikro', 0], ['Medium', 0]],\n",
              " [43, ['Nano', 0], ['Mikro', 0], ['Medium', 0]],\n",
              " [44, ['Nano', 0], ['Mikro', 0], ['Medium', 0]],\n",
              " [45, ['Nano', 0], ['Mikro', 0], ['Medium', 0]],\n",
              " [46, ['Nano', 0], ['Mikro', 0], ['Medium', 0]],\n",
              " [47, ['Nano', 0], ['Mikro', 0], ['Medium', 0]],\n",
              " [48, ['Nano', 0], ['Mikro', 5.540387145916541e-12], ['Medium', 0.7]],\n",
              " [49, ['Nano', 0], ['Mikro', 0], ['Medium', 0]],\n",
              " [50,\n",
              "  ['Nano', 2.1031075200728582e-10],\n",
              "  ['Mikro', 0.6666666666666667],\n",
              "  ['Medium', 0]],\n",
              " [51,\n",
              "  ['Nano', 2.1031075200728582e-10],\n",
              "  ['Mikro', 0.41666666666666663],\n",
              "  ['Medium', 0.020000000000000018]],\n",
              " [52, ['Nano', 0], ['Mikro', 0], ['Medium', 0]],\n",
              " [53,\n",
              "  ['Nano', 2.1031075200728582e-10],\n",
              "  ['Mikro', 0.3333333333333332],\n",
              "  ['Medium', 0.040000000000000036]],\n",
              " [54,\n",
              "  ['Nano', 2.1031075200728582e-10],\n",
              "  ['Mikro', 0.9166666666666666],\n",
              "  ['Medium', 0]],\n",
              " [55,\n",
              "  ['Nano', 2.1031075200728582e-10],\n",
              "  ['Mikro', 0.25000000000000006],\n",
              "  ['Medium', 0]],\n",
              " [56,\n",
              "  ['Nano', 2.1031075200728582e-10],\n",
              "  ['Mikro', 0.16666666666666663],\n",
              "  ['Medium', 0]],\n",
              " [57, ['Nano', 0], ['Mikro', 0], ['Medium', 0]],\n",
              " [58, ['Nano', 0], ['Mikro', 0], ['Medium', 0]],\n",
              " [59, ['Nano', 0], ['Mikro', 5.540387145916541e-12], ['Medium', 0.74]],\n",
              " [60,\n",
              "  ['Nano', 0],\n",
              "  ['Mikro', 5.540387145916541e-12],\n",
              "  ['Medium', 0.44000000000000006]],\n",
              " [61, ['Nano', 0], ['Mikro', 5.540387145916541e-12], ['Medium', 0.3]],\n",
              " [62, ['Nano', 0], ['Mikro', 0], ['Medium', 0]],\n",
              " [63,\n",
              "  ['Nano', 2.1031075200728582e-10],\n",
              "  ['Mikro', 0.16666666666666663],\n",
              "  ['Medium', 0]],\n",
              " [64, ['Nano', 0], ['Mikro', 0], ['Medium', 0]],\n",
              " [65, ['Nano', 0], ['Mikro', 0], ['Medium', 0]],\n",
              " [66, ['Nano', 0], ['Mikro', 0], ['Medium', 0]],\n",
              " [67,\n",
              "  ['Nano', 2.1031075200728582e-10],\n",
              "  ['Mikro', 0.1666666666666668],\n",
              "  ['Medium', 0.07999999999999999]],\n",
              " [68,\n",
              "  ['Nano', 2.1031075200728582e-10],\n",
              "  ['Mikro', 0.4166666666666667],\n",
              "  ['Medium', 0]],\n",
              " [69, ['Nano', 0], ['Mikro', 0], ['Medium', 0]],\n",
              " [70,\n",
              "  ['Nano', 2.1031075200728582e-10],\n",
              "  ['Mikro', 0.5833333333333334],\n",
              "  ['Medium', 0]],\n",
              " [71,\n",
              "  ['Nano', 2.1031075200728582e-10],\n",
              "  ['Mikro', 0.6666666666666667],\n",
              "  ['Medium', 0]],\n",
              " [72,\n",
              "  ['Nano', 0],\n",
              "  ['Mikro', 5.540387145916541e-12],\n",
              "  ['Medium', 0.31999999999999995]],\n",
              " [73,\n",
              "  ['Nano', 2.1031075200728582e-10],\n",
              "  ['Mikro', 0.9166666666666666],\n",
              "  ['Medium', 0]],\n",
              " [74,\n",
              "  ['Nano', 0],\n",
              "  ['Mikro', 5.540387145916541e-12],\n",
              "  ['Medium', 0.6599999999999999]],\n",
              " [75, ['Nano', 2.1031075200728582e-10], ['Mikro', 0.5], ['Medium', 0]],\n",
              " [76,\n",
              "  ['Nano', 2.1031075200728582e-10],\n",
              "  ['Mikro', 0.25000000000000017],\n",
              "  ['Medium', 0.05999999999999996]],\n",
              " [77,\n",
              "  ['Nano', 2.1031075200728582e-10],\n",
              "  ['Mikro', 0.5833333333333334],\n",
              "  ['Medium', 0]],\n",
              " [78, ['Nano', 2.1031075200728582e-10], ['Mikro', 0.5], ['Medium', 0]],\n",
              " [79, ['Nano', 0], ['Mikro', 0], ['Medium', 0]],\n",
              " [80,\n",
              "  ['Nano', 2.1031075200728582e-10],\n",
              "  ['Mikro', 0.3333333333333332],\n",
              "  ['Medium', 0.040000000000000036]],\n",
              " [81, ['Nano', 0], ['Mikro', 0], ['Medium', 0]],\n",
              " [82, ['Nano', 0], ['Mikro', 0], ['Medium', 0]],\n",
              " [83, ['Nano', 0], ['Mikro', 0], ['Medium', 0]],\n",
              " [84,\n",
              "  ['Nano', 2.1031075200728582e-10],\n",
              "  ['Mikro', 0.6666666666666667],\n",
              "  ['Medium', 0]],\n",
              " [85,\n",
              "  ['Nano', 2.1031075200728582e-10],\n",
              "  ['Mikro', 0.9166666666666666],\n",
              "  ['Medium', 0]],\n",
              " [86,\n",
              "  ['Nano', 2.1031075200728582e-10],\n",
              "  ['Mikro', 0.6666666666666667],\n",
              "  ['Medium', 0]],\n",
              " [87,\n",
              "  ['Nano', 2.1031075200728582e-10],\n",
              "  ['Mikro', 0.5833333333333334],\n",
              "  ['Medium', 0]],\n",
              " [88,\n",
              "  ['Nano', 2.1031075200728582e-10],\n",
              "  ['Mikro', 0.7499999999999998],\n",
              "  ['Medium', 0]],\n",
              " [89,\n",
              "  ['Nano', 2.1031075200728582e-10],\n",
              "  ['Mikro', 0.9166666666666666],\n",
              "  ['Medium', 0]],\n",
              " [90,\n",
              "  ['Nano', 2.1031075200728582e-10],\n",
              "  ['Mikro', 0.9166666666666666],\n",
              "  ['Medium', 0]],\n",
              " [91,\n",
              "  ['Nano', 2.1031075200728582e-10],\n",
              "  ['Mikro', 0.3333333333333332],\n",
              "  ['Medium', 0.040000000000000036]],\n",
              " [92, ['Nano', 2.1031075200728582e-10], ['Mikro', 1], ['Medium', 0]],\n",
              " [93, ['Nano', 0], ['Mikro', 5.540387145916541e-12], ['Medium', 0.5]],\n",
              " [94, ['Nano', 0], ['Mikro', 0], ['Medium', 0]],\n",
              " [95,\n",
              "  ['Nano', 2.1031075200728582e-10],\n",
              "  ['Mikro', 0.41666666666666663],\n",
              "  ['Medium', 0.020000000000000018]],\n",
              " [96, ['Nano', 0], ['Mikro', 0], ['Medium', 0]],\n",
              " [97, ['Nano', 0], ['Mikro', 0], ['Medium', 0]],\n",
              " [98, ['Nano', 0], ['Mikro', 0], ['Medium', 0]],\n",
              " [99, ['Nano', 0], ['Mikro', 0], ['Medium', 0]],\n",
              " [100, ['Nano', 0], ['Mikro', 5.540387145916541e-12], ['Medium', 0.76]]]"
            ]
          },
          "metadata": {
            "tags": []
          },
          "execution_count": 114
        }
      ]
    },
    {
      "cell_type": "code",
      "metadata": {
        "id": "g90JWBam_uJm",
        "colab_type": "code",
        "colab": {}
      },
      "source": [
        ""
      ],
      "execution_count": 0,
      "outputs": []
    }
  ]
}